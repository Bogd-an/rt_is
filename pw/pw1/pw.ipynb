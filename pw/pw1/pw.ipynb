{
 "cells": [
  {
   "cell_type": "markdown",
   "id": "eadf8f83",
   "metadata": {},
   "source": [
    "# ПРАКТИКУМ 1. БІБЛІОТЕКА PANDAS\n",
    "\n",
    "# Завдання:\n",
    "1.  Завантажте набір даних. \n",
    "2.  Виведіть заголовок таблиці (перші 5 записів). \n",
    "3.  Скільки рядків і стовпців в таблиці? \n",
    "4.  Які назви стовпців? \n",
    "5.  Які типи даних у різних стовпців? \n",
    "6.  Скільки в кожному з них унікальних значень? \n",
    "7.  Скільки пропущених значень?\n",
    "\n",
    "## Варіант 12 \n",
    "\n",
    "Набір даних: додат ки в Google Play Store (googleplaystore.csv). Аналіз даних: \n",
    "1.  Визначте  ТОП-10  категорій,  додатки  в  яких  мають  найбільшу \n",
    "кількість завантажень. Побудуйте стовпчикову діаграму. \n",
    "2.  Чи  правда,  що  безкоштовні  додатки  з  категорії  «Шопінг»  мають \n",
    "більшу  кількість  завантажень,  ніж  платні  додатки  з  категорії \n",
    "«Освіта»? \n",
    "3.  Проаналізуйте,  чи  змінюється  частка  завантажень  платних \n",
    "додатків у категорії «Ігри» в залежності від вікової групи? \n",
    "4.  Визначте  5  категорій,  в  яких  платні  додатки  мають  найбільшу \n",
    "кількість відгуків. \n",
    "5.  Знайдіть  платні  додатки  в  категорії  «Сім’я»,  які  не  оновлювались \n",
    "більш ніж 5 років.  \n"
   ]
  },
  {
   "cell_type": "code",
   "execution_count": 1,
   "id": "01d3247a",
   "metadata": {},
   "outputs": [],
   "source": [
    "import numpy as np\n",
    "import pandas as pd\n",
    "import matplotlib.pyplot as plt\n"
   ]
  },
  {
   "cell_type": "code",
   "execution_count": 2,
   "id": "f7266142",
   "metadata": {},
   "outputs": [
    {
     "name": "stdout",
     "output_type": "stream",
     "text": [
      "Перші 5 записів:\n"
     ]
    },
    {
     "data": {
      "text/html": [
       "<div>\n",
       "<style scoped>\n",
       "    .dataframe tbody tr th:only-of-type {\n",
       "        vertical-align: middle;\n",
       "    }\n",
       "\n",
       "    .dataframe tbody tr th {\n",
       "        vertical-align: top;\n",
       "    }\n",
       "\n",
       "    .dataframe thead th {\n",
       "        text-align: right;\n",
       "    }\n",
       "</style>\n",
       "<table border=\"1\" class=\"dataframe\">\n",
       "  <thead>\n",
       "    <tr style=\"text-align: right;\">\n",
       "      <th></th>\n",
       "      <th>App</th>\n",
       "      <th>Category</th>\n",
       "      <th>Rating</th>\n",
       "      <th>Reviews</th>\n",
       "      <th>Size</th>\n",
       "      <th>Installs</th>\n",
       "      <th>Type</th>\n",
       "      <th>Price</th>\n",
       "      <th>Content Rating</th>\n",
       "      <th>Genres</th>\n",
       "      <th>Last Updated</th>\n",
       "      <th>Current Ver</th>\n",
       "      <th>Android Ver</th>\n",
       "    </tr>\n",
       "  </thead>\n",
       "  <tbody>\n",
       "    <tr>\n",
       "      <th>0</th>\n",
       "      <td>Photo Editor &amp; Candy Camera &amp; Grid &amp; ScrapBook</td>\n",
       "      <td>ART_AND_DESIGN</td>\n",
       "      <td>4.1</td>\n",
       "      <td>159</td>\n",
       "      <td>19M</td>\n",
       "      <td>10,000+</td>\n",
       "      <td>Free</td>\n",
       "      <td>0</td>\n",
       "      <td>Everyone</td>\n",
       "      <td>Art &amp; Design</td>\n",
       "      <td>January 7, 2018</td>\n",
       "      <td>1.0.0</td>\n",
       "      <td>4.0.3 and up</td>\n",
       "    </tr>\n",
       "    <tr>\n",
       "      <th>1</th>\n",
       "      <td>Coloring book moana</td>\n",
       "      <td>ART_AND_DESIGN</td>\n",
       "      <td>3.9</td>\n",
       "      <td>967</td>\n",
       "      <td>14M</td>\n",
       "      <td>500,000+</td>\n",
       "      <td>Free</td>\n",
       "      <td>0</td>\n",
       "      <td>Everyone</td>\n",
       "      <td>Art &amp; Design;Pretend Play</td>\n",
       "      <td>January 15, 2018</td>\n",
       "      <td>2.0.0</td>\n",
       "      <td>4.0.3 and up</td>\n",
       "    </tr>\n",
       "    <tr>\n",
       "      <th>2</th>\n",
       "      <td>U Launcher Lite – FREE Live Cool Themes, Hide ...</td>\n",
       "      <td>ART_AND_DESIGN</td>\n",
       "      <td>4.7</td>\n",
       "      <td>87510</td>\n",
       "      <td>8.7M</td>\n",
       "      <td>5,000,000+</td>\n",
       "      <td>Free</td>\n",
       "      <td>0</td>\n",
       "      <td>Everyone</td>\n",
       "      <td>Art &amp; Design</td>\n",
       "      <td>August 1, 2018</td>\n",
       "      <td>1.2.4</td>\n",
       "      <td>4.0.3 and up</td>\n",
       "    </tr>\n",
       "    <tr>\n",
       "      <th>3</th>\n",
       "      <td>Sketch - Draw &amp; Paint</td>\n",
       "      <td>ART_AND_DESIGN</td>\n",
       "      <td>4.5</td>\n",
       "      <td>215644</td>\n",
       "      <td>25M</td>\n",
       "      <td>50,000,000+</td>\n",
       "      <td>Free</td>\n",
       "      <td>0</td>\n",
       "      <td>Teen</td>\n",
       "      <td>Art &amp; Design</td>\n",
       "      <td>June 8, 2018</td>\n",
       "      <td>Varies with device</td>\n",
       "      <td>4.2 and up</td>\n",
       "    </tr>\n",
       "    <tr>\n",
       "      <th>4</th>\n",
       "      <td>Pixel Draw - Number Art Coloring Book</td>\n",
       "      <td>ART_AND_DESIGN</td>\n",
       "      <td>4.3</td>\n",
       "      <td>967</td>\n",
       "      <td>2.8M</td>\n",
       "      <td>100,000+</td>\n",
       "      <td>Free</td>\n",
       "      <td>0</td>\n",
       "      <td>Everyone</td>\n",
       "      <td>Art &amp; Design;Creativity</td>\n",
       "      <td>June 20, 2018</td>\n",
       "      <td>1.1</td>\n",
       "      <td>4.4 and up</td>\n",
       "    </tr>\n",
       "  </tbody>\n",
       "</table>\n",
       "</div>"
      ],
      "text/plain": [
       "                                                 App        Category  Rating  \\\n",
       "0     Photo Editor & Candy Camera & Grid & ScrapBook  ART_AND_DESIGN     4.1   \n",
       "1                                Coloring book moana  ART_AND_DESIGN     3.9   \n",
       "2  U Launcher Lite – FREE Live Cool Themes, Hide ...  ART_AND_DESIGN     4.7   \n",
       "3                              Sketch - Draw & Paint  ART_AND_DESIGN     4.5   \n",
       "4              Pixel Draw - Number Art Coloring Book  ART_AND_DESIGN     4.3   \n",
       "\n",
       "  Reviews  Size     Installs  Type Price Content Rating  \\\n",
       "0     159   19M      10,000+  Free     0       Everyone   \n",
       "1     967   14M     500,000+  Free     0       Everyone   \n",
       "2   87510  8.7M   5,000,000+  Free     0       Everyone   \n",
       "3  215644   25M  50,000,000+  Free     0           Teen   \n",
       "4     967  2.8M     100,000+  Free     0       Everyone   \n",
       "\n",
       "                      Genres      Last Updated         Current Ver  \\\n",
       "0               Art & Design   January 7, 2018               1.0.0   \n",
       "1  Art & Design;Pretend Play  January 15, 2018               2.0.0   \n",
       "2               Art & Design    August 1, 2018               1.2.4   \n",
       "3               Art & Design      June 8, 2018  Varies with device   \n",
       "4    Art & Design;Creativity     June 20, 2018                 1.1   \n",
       "\n",
       "    Android Ver  \n",
       "0  4.0.3 and up  \n",
       "1  4.0.3 and up  \n",
       "2  4.0.3 and up  \n",
       "3    4.2 and up  \n",
       "4    4.4 and up  "
      ]
     },
     "execution_count": 2,
     "metadata": {},
     "output_type": "execute_result"
    }
   ],
   "source": [
    "# 1. Завантаження даних\n",
    "df = pd.read_csv('googleplaystore.csv')\n",
    "\n",
    "# 2. Перші 5 записів\n",
    "print(\"Перші 5 записів:\")\n",
    "df.head()\n"
   ]
  },
  {
   "cell_type": "code",
   "execution_count": 3,
   "id": "373ef9a3",
   "metadata": {},
   "outputs": [
    {
     "data": {
      "text/plain": [
       "(10841, 13)"
      ]
     },
     "execution_count": 3,
     "metadata": {},
     "output_type": "execute_result"
    }
   ],
   "source": [
    "# 3. Кількість рядків і стовпців\n",
    "df.shape"
   ]
  },
  {
   "cell_type": "code",
   "execution_count": 4,
   "id": "2bf69b79",
   "metadata": {},
   "outputs": [
    {
     "data": {
      "text/plain": [
       "Index(['App', 'Category', 'Rating', 'Reviews', 'Size', 'Installs', 'Type',\n",
       "       'Price', 'Content Rating', 'Genres', 'Last Updated', 'Current Ver',\n",
       "       'Android Ver'],\n",
       "      dtype='object')"
      ]
     },
     "execution_count": 4,
     "metadata": {},
     "output_type": "execute_result"
    }
   ],
   "source": [
    "# 4. Назви стовпців\n",
    "df.columns"
   ]
  },
  {
   "cell_type": "code",
   "execution_count": 5,
   "id": "df48ac3d",
   "metadata": {},
   "outputs": [
    {
     "data": {
      "text/plain": [
       "App                object\n",
       "Category           object\n",
       "Rating            float64\n",
       "Reviews            object\n",
       "Size               object\n",
       "Installs           object\n",
       "Type               object\n",
       "Price              object\n",
       "Content Rating     object\n",
       "Genres             object\n",
       "Last Updated       object\n",
       "Current Ver        object\n",
       "Android Ver        object\n",
       "dtype: object"
      ]
     },
     "execution_count": 5,
     "metadata": {},
     "output_type": "execute_result"
    }
   ],
   "source": [
    "# 5. Типи даних стовпців\n",
    "df.dtypes"
   ]
  },
  {
   "cell_type": "code",
   "execution_count": 6,
   "id": "6f32eb1d",
   "metadata": {},
   "outputs": [
    {
     "data": {
      "text/plain": [
       "App               9660\n",
       "Category            34\n",
       "Rating              40\n",
       "Reviews           6002\n",
       "Size               462\n",
       "Installs            22\n",
       "Type                 3\n",
       "Price               93\n",
       "Content Rating       6\n",
       "Genres             120\n",
       "Last Updated      1378\n",
       "Current Ver       2832\n",
       "Android Ver         33\n",
       "dtype: int64"
      ]
     },
     "execution_count": 6,
     "metadata": {},
     "output_type": "execute_result"
    }
   ],
   "source": [
    "# 6. Унікальні значення у кожному стовпці\n",
    "df.nunique()"
   ]
  },
  {
   "cell_type": "code",
   "execution_count": 7,
   "id": "56547428",
   "metadata": {},
   "outputs": [
    {
     "data": {
      "text/plain": [
       "App                  0\n",
       "Category             0\n",
       "Rating            1474\n",
       "Reviews              0\n",
       "Size                 0\n",
       "Installs             0\n",
       "Type                 1\n",
       "Price                0\n",
       "Content Rating       1\n",
       "Genres               0\n",
       "Last Updated         0\n",
       "Current Ver          8\n",
       "Android Ver          3\n",
       "dtype: int64"
      ]
     },
     "execution_count": 7,
     "metadata": {},
     "output_type": "execute_result"
    }
   ],
   "source": [
    "# 7. Пропущені значення у кожному стовпці\n",
    "df.isnull().sum()"
   ]
  },
  {
   "cell_type": "code",
   "execution_count": null,
   "id": "77ec3b74",
   "metadata": {},
   "outputs": [],
   "source": [
    "# Чистка датасету\n",
    "\n",
    "df['Installs'] = df['Installs'].str.replace('Free', '0', regex=True).replace('[+,]', '', regex=True).astype(int)\n",
    "\n",
    "df['Price'] = df['Price'].str.replace('$', '').str.replace('Everyone', '0').astype(float)\n",
    "\n",
    "df['Last Updated'] = pd.to_datetime(df['Last Updated'], errors='coerce')\n",
    "\n",
    "df['Reviews'] = pd.to_numeric(df['Reviews'], errors='coerce')  # некоректні значення стануть NaN"
   ]
  },
  {
   "cell_type": "code",
   "execution_count": 9,
   "id": "fa146d21",
   "metadata": {},
   "outputs": [
    {
     "data": {
      "image/png": "[encoded data removed]",
      "text/plain": [
       "<Figure size 640x480 with 1 Axes>"
      ]
     },
     "metadata": {},
     "output_type": "display_data"
    }
   ],
   "source": [
    "# 1.  Визначте  ТОП-10  категорій,  додатки  в  яких  мають  найбільшу \n",
    "# кількість завантажень. Побудуйте стовпчикову діаграму. \n",
    "top_categories = df.groupby('Category')['Installs'].sum().sort_values(ascending=False).head(10)\n",
    "top_categories.plot(kind='bar', title='ТОП-10 категорій за кількістю завантажень', ylabel='Кількість завантажень')\n",
    "plt.show()"
   ]
  },
  {
   "cell_type": "code",
   "execution_count": 10,
   "id": "f417255f",
   "metadata": {},
   "outputs": [
    {
     "data": {
      "text/plain": [
       "'Installs_mean: SHOPPING_free > EDUCATION_paid = True'"
      ]
     },
     "execution_count": 10,
     "metadata": {},
     "output_type": "execute_result"
    }
   ],
   "source": [
    "# 2.  Чи  правда,  що  безкоштовні  додатки  з  категорії  «Шопінг»  мають \n",
    "# більшу  кількість  завантажень,  ніж  платні  додатки  з  категорії \n",
    "# «Освіта»? \n",
    "\n",
    "SHOPPING_free= df[(df['Category'] == 'SHOPPING') & (df['Price'] == 0)]['Installs'].mean()\n",
    "EDUCATION_paid = df[(df['Category'] == 'EDUCATION') & (df['Price'] > 0)]['Installs'].mean()\n",
    "\n",
    "f'Installs_mean: {SHOPPING_free > EDUCATION_paid = }'"
   ]
  },
  {
   "cell_type": "code",
   "execution_count": 11,
   "id": "91aa6d66",
   "metadata": {},
   "outputs": [
    {
     "data": {
      "image/png": "[encoded data removed]",
      "text/plain": [
       "<Figure size 800x800 with 1 Axes>"
      ]
     },
     "metadata": {},
     "output_type": "display_data"
    }
   ],
   "source": [
    "# 3. Проаналізуйте, чи змінюється частка завантажень платних # додаткі\n",
    "# в у категорії «Ігри» в залежності від вікової групи? \n",
    "\n",
    "# Фільтруємо тільки ігри\n",
    "games = df[df['Category'] == 'GAME']\n",
    "\n",
    "# Групуємо ігри за віковою категорією (Content Rating)\n",
    "paid_ratio = games.groupby('Content Rating').agg(\n",
    "    total_installs=('Installs', 'sum'), # Загальна кількість завантажень у групі\n",
    "    # Кількість завантажень лише платних додатків (де є ціна)\n",
    "    paid_installs=('Installs', lambda x: x.loc[games.loc[x.index, 'Price'] > 0].sum())\n",
    ")\n",
    "\n",
    "# Створюємо новий стовпець з часткою завантажень платних додатків\n",
    "paid_ratio_values = (paid_ratio['paid_installs'] / paid_ratio['total_installs'])\n",
    "\n",
    "plt.figure(figsize=(8, 8))\n",
    "plt.pie( x=paid_ratio_values, labels=paid_ratio_values.index, autopct='%1.3f%%',                \n",
    ")\n",
    "plt.title(\"Частка завантажень платних ігор по віковим групам\")\n",
    "plt.show()"
   ]
  },
  {
   "cell_type": "code",
   "execution_count": 22,
   "id": "ed0b86f6",
   "metadata": {},
   "outputs": [
    {
     "data": {
      "text/plain": [
       "Category\n",
       "FAMILY             6046530.0\n",
       "GAME               1591503.0\n",
       "PERSONALIZATION     449657.0\n",
       "PHOTOGRAPHY         230654.0\n",
       "TOOLS               171937.0\n",
       "Name: Reviews, dtype: float64"
      ]
     },
     "execution_count": 22,
     "metadata": {},
     "output_type": "execute_result"
    }
   ],
   "source": [
    "# 4.  Визначте  5  категорій,  в  яких  платні  додатки  мають  найбільшу \n",
    "# кількість відгуків.\n",
    "df[df['Price'] > 0].groupby('Category')['Reviews'].sum().sort_values(ascending=False).head(5)\n"
   ]
  },
  {
   "cell_type": "code",
   "execution_count": 21,
   "id": "9d95f12b",
   "metadata": {},
   "outputs": [
    {
     "name": "stdout",
     "output_type": "stream",
     "text": [
      "Додатків які не оновлювались вже 5 років 191 штук\n"
     ]
    },
    {
     "data": {
      "text/html": [
       "<div>\n",
       "<style scoped>\n",
       "    .dataframe tbody tr th:only-of-type {\n",
       "        vertical-align: middle;\n",
       "    }\n",
       "\n",
       "    .dataframe tbody tr th {\n",
       "        vertical-align: top;\n",
       "    }\n",
       "\n",
       "    .dataframe thead th {\n",
       "        text-align: right;\n",
       "    }\n",
       "</style>\n",
       "<table border=\"1\" class=\"dataframe\">\n",
       "  <thead>\n",
       "    <tr style=\"text-align: right;\">\n",
       "      <th></th>\n",
       "      <th>App</th>\n",
       "      <th>Price</th>\n",
       "      <th>Last Updated</th>\n",
       "    </tr>\n",
       "  </thead>\n",
       "  <tbody>\n",
       "    <tr>\n",
       "      <th>8371</th>\n",
       "      <td>ZombieVital DG</td>\n",
       "      <td>12.99</td>\n",
       "      <td>2018-08-04</td>\n",
       "    </tr>\n",
       "    <tr>\n",
       "      <th>4411</th>\n",
       "      <td>Age of Conquest: N. America</td>\n",
       "      <td>3.99</td>\n",
       "      <td>2018-08-04</td>\n",
       "    </tr>\n",
       "    <tr>\n",
       "      <th>4559</th>\n",
       "      <td>Elemental Knights R Platinum</td>\n",
       "      <td>4.77</td>\n",
       "      <td>2018-08-01</td>\n",
       "    </tr>\n",
       "    <tr>\n",
       "      <th>8726</th>\n",
       "      <td>DRAGON QUEST VI</td>\n",
       "      <td>14.99</td>\n",
       "      <td>2018-08-01</td>\n",
       "    </tr>\n",
       "    <tr>\n",
       "      <th>4711</th>\n",
       "      <td>DRAGON QUEST V</td>\n",
       "      <td>14.99</td>\n",
       "      <td>2018-08-01</td>\n",
       "    </tr>\n",
       "    <tr>\n",
       "      <th>...</th>\n",
       "      <td>...</td>\n",
       "      <td>...</td>\n",
       "      <td>...</td>\n",
       "    </tr>\n",
       "    <tr>\n",
       "      <th>6753</th>\n",
       "      <td>BS Detector - Diss 'n' Gauges</td>\n",
       "      <td>1.49</td>\n",
       "      <td>2013-02-22</td>\n",
       "    </tr>\n",
       "    <tr>\n",
       "      <th>5978</th>\n",
       "      <td>Truck Driving Test Class 3 BC</td>\n",
       "      <td>1.49</td>\n",
       "      <td>2012-04-09</td>\n",
       "    </tr>\n",
       "    <tr>\n",
       "      <th>5977</th>\n",
       "      <td>Car Driving Theory Test BC</td>\n",
       "      <td>1.49</td>\n",
       "      <td>2012-04-09</td>\n",
       "    </tr>\n",
       "    <tr>\n",
       "      <th>10798</th>\n",
       "      <td>Word Search Tab 1 FR</td>\n",
       "      <td>1.04</td>\n",
       "      <td>2012-02-06</td>\n",
       "    </tr>\n",
       "    <tr>\n",
       "      <th>9920</th>\n",
       "      <td>IF YOU TO EU PEGO</td>\n",
       "      <td>1.26</td>\n",
       "      <td>2012-01-12</td>\n",
       "    </tr>\n",
       "  </tbody>\n",
       "</table>\n",
       "<p>191 rows × 3 columns</p>\n",
       "</div>"
      ],
      "text/plain": [
       "                                 App  Price Last Updated\n",
       "8371                  ZombieVital DG  12.99   2018-08-04\n",
       "4411     Age of Conquest: N. America   3.99   2018-08-04\n",
       "4559    Elemental Knights R Platinum   4.77   2018-08-01\n",
       "8726                 DRAGON QUEST VI  14.99   2018-08-01\n",
       "4711                  DRAGON QUEST V  14.99   2018-08-01\n",
       "...                              ...    ...          ...\n",
       "6753   BS Detector - Diss 'n' Gauges   1.49   2013-02-22\n",
       "5978   Truck Driving Test Class 3 BC   1.49   2012-04-09\n",
       "5977      Car Driving Theory Test BC   1.49   2012-04-09\n",
       "10798           Word Search Tab 1 FR   1.04   2012-02-06\n",
       "9920               IF YOU TO EU PEGO   1.26   2012-01-12\n",
       "\n",
       "[191 rows x 3 columns]"
      ]
     },
     "execution_count": 21,
     "metadata": {},
     "output_type": "execute_result"
    }
   ],
   "source": [
    "# 5.  Знайдіть  платні  додатки  в  категорії  «Сім’я»,  які  не  оновлювались \n",
    "# більш ніж 5 років.  \n",
    "\n",
    "from datetime import datetime, timedelta\n",
    "\n",
    "five_years_ago = datetime.now() - timedelta(days=5*365)\n",
    "family_paid_old = df[(df['Category'] == 'FAMILY') & (df['Price'] > 0) & (df['Last Updated'] < five_years_ago)]\n",
    "\n",
    "print(f'Додатків які не оновлювались вже 5 років {len(family_paid_old)} штук')\n",
    "family_paid_old[['App', 'Price', 'Last Updated']].sort_values(by='Last Updated', ascending=False)\n"
   ]
  }
 ],
 "metadata": {
  "kernelspec": {
   "display_name": ".venv",
   "language": "python",
   "name": "python3"
  },
  "language_info": {
   "codemirror_mode": {
    "name": "ipython",
    "version": 3
   },
   "file_extension": ".py",
   "mimetype": "text/x-python",
   "name": "python",
   "nbconvert_exporter": "python",
   "pygments_lexer": "ipython3",
   "version": "3.10.11"
  }
 },
 "nbformat": 4,
 "nbformat_minor": 5
}
